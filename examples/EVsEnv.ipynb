{
 "cells": [
  {
   "attachments": {},
   "cell_type": "markdown",
   "metadata": {},
   "source": [
    "<a href=\"https://colab.research.google.com/github/intelligent-environments-lab/CityLearn/blob/master/examples/quickstart.ipynb\" target=\"_parent\"><img src=\"https://colab.research.google.com/assets/colab-badge.svg\" alt=\"Open In Colab\"/></a>"
   ]
  },
  {
   "cell_type": "markdown",
   "source": [
    "# Eletric Vehicles Environment Test\n",
    "\n",
    "Run the following commands to check if the EV environment is fine..."
   ],
   "metadata": {
    "collapsed": false
   }
  },
  {
   "cell_type": "code",
   "execution_count": null,
   "metadata": {
    "ExecuteTime": {
     "start_time": "2023-06-01T15:33:40.329230Z",
     "end_time": "2023-06-01T15:33:42.258518Z"
    }
   },
   "outputs": [],
   "source": [
    "from citylearn.citylearn import CityLearnEnv\n",
    "from citylearn.agents.rbc import BasicRBC as RBCAgent\n",
    "\n",
    "dataset_name = 'citylearn_challenge_2022_phase_all_with_EVs'\n",
    "env = CityLearnEnv(dataset_name, central_agent=True)\n",
    "\n",
    "print(\"Starting Test\")\n",
    "while not env.done:\n",
    "    #print(\"TIME STEP\")\n",
    "    #print(env.time_step)\n",
    "    #print(\"EVSSSSSSSSSS\")\n",
    "    #print(env.evs)\n",
    "    print(env.observations)\n",
    "    #print(env.observation_space)\n",
    "    #print(env.observation_names)\n",
    "    #print(env.shared_observations)\n",
    "    #print(env.action_space)\n",
    "    #print(\"BUILDINGS\")\n",
    "    #print(env.buildings)\n",
    "    #env.step()\n",
    "    #print(env.time_step)"
   ]
  },
  {
   "cell_type": "markdown",
   "source": [
    "## Centralized RBC for EVs\n",
    "Run the following to simulate an environment controlled by centralized RBC agent for a single episode:"
   ],
   "metadata": {
    "collapsed": false
   }
  },
  {
   "cell_type": "code",
   "execution_count": 1,
   "outputs": [
    {
     "name": "stdout",
     "output_type": "stream",
     "text": [
      "The method took 0.04674959182739258 seconds to execute.\n",
      "{'cooling_storage_action': nan, 'heating_storage_action': nan, 'dhw_storage_action': nan, 'electrical_storage_action': 0.091}\n",
      "{'cooling_storage_action': nan, 'heating_storage_action': nan, 'dhw_storage_action': nan, 'electrical_storage_action': 0.091}\n",
      "{'cooling_storage_action': nan, 'heating_storage_action': nan, 'dhw_storage_action': nan, 'electrical_storage_action': 0.091}\n",
      "{'cooling_storage_action': nan, 'heating_storage_action': nan, 'dhw_storage_action': nan, 'electrical_storage_action': 0.091}\n",
      "{'cooling_storage_action': nan, 'heating_storage_action': nan, 'dhw_storage_action': nan, 'electrical_storage_action': 0.091}\n",
      "{'cooling_storage_action': nan, 'heating_storage_action': nan, 'dhw_storage_action': nan, 'electrical_storage_action': 0.091}\n",
      "\n",
      "\n",
      "Next time step:\n"
     ]
    },
    {
     "ename": "AttributeError",
     "evalue": "'EVSimulation' object has no attribute 'connected_charger'",
     "output_type": "error",
     "traceback": [
      "\u001B[1;31m---------------------------------------------------------------------------\u001B[0m",
      "\u001B[1;31mAttributeError\u001B[0m                            Traceback (most recent call last)",
      "Cell \u001B[1;32mIn[1], line 7\u001B[0m\n\u001B[0;32m      5\u001B[0m env \u001B[38;5;241m=\u001B[39m CityLearnEnv(dataset_name, central_agent\u001B[38;5;241m=\u001B[39m\u001B[38;5;28;01mTrue\u001B[39;00m)\n\u001B[0;32m      6\u001B[0m model \u001B[38;5;241m=\u001B[39m RBCAgent(env)\n\u001B[1;32m----> 7\u001B[0m \u001B[43mmodel\u001B[49m\u001B[38;5;241;43m.\u001B[39;49m\u001B[43mlearn\u001B[49m\u001B[43m(\u001B[49m\u001B[43mepisodes\u001B[49m\u001B[38;5;241;43m=\u001B[39;49m\u001B[38;5;241;43m1\u001B[39;49m\u001B[43m)\u001B[49m\n\u001B[0;32m      9\u001B[0m \u001B[38;5;66;03m# print cost functions at the end of episode\u001B[39;00m\n\u001B[0;32m     10\u001B[0m kpis \u001B[38;5;241m=\u001B[39m model\u001B[38;5;241m.\u001B[39menv\u001B[38;5;241m.\u001B[39mevaluate()\u001B[38;5;241m.\u001B[39mpivot(index\u001B[38;5;241m=\u001B[39m\u001B[38;5;124m'\u001B[39m\u001B[38;5;124mcost_function\u001B[39m\u001B[38;5;124m'\u001B[39m, columns\u001B[38;5;241m=\u001B[39m\u001B[38;5;124m'\u001B[39m\u001B[38;5;124mname\u001B[39m\u001B[38;5;124m'\u001B[39m, values\u001B[38;5;241m=\u001B[39m\u001B[38;5;124m'\u001B[39m\u001B[38;5;124mvalue\u001B[39m\u001B[38;5;124m'\u001B[39m)\n",
      "File \u001B[1;32m~\\Documents\\GitHub\\CityLearn\\citylearn\\agents\\base.py:144\u001B[0m, in \u001B[0;36mAgent.learn\u001B[1;34m(self, episodes, keep_env_history, env_history_directory, deterministic, deterministic_finish, logging_level)\u001B[0m\n\u001B[0;32m    141\u001B[0m actions \u001B[38;5;241m=\u001B[39m \u001B[38;5;28mself\u001B[39m\u001B[38;5;241m.\u001B[39mpredict(observations, deterministic\u001B[38;5;241m=\u001B[39mdeterministic)\n\u001B[0;32m    143\u001B[0m \u001B[38;5;66;03m# apply actions to citylearn_env\u001B[39;00m\n\u001B[1;32m--> 144\u001B[0m next_observations, rewards, _, _ \u001B[38;5;241m=\u001B[39m \u001B[38;5;28;43mself\u001B[39;49m\u001B[38;5;241;43m.\u001B[39;49m\u001B[43menv\u001B[49m\u001B[38;5;241;43m.\u001B[39;49m\u001B[43mstep\u001B[49m\u001B[43m(\u001B[49m\u001B[43mactions\u001B[49m\u001B[43m)\u001B[49m\n\u001B[0;32m    146\u001B[0m \u001B[38;5;66;03m# update\u001B[39;00m\n\u001B[0;32m    147\u001B[0m \u001B[38;5;28;01mif\u001B[39;00m \u001B[38;5;129;01mnot\u001B[39;00m deterministic:\n",
      "File \u001B[1;32m~\\Documents\\GitHub\\CityLearn\\citylearn\\citylearn.py:719\u001B[0m, in \u001B[0;36mCityLearnEnv.step\u001B[1;34m(self, actions)\u001B[0m\n\u001B[0;32m    716\u001B[0m     \u001B[38;5;28mprint\u001B[39m(building_actions)\n\u001B[0;32m    717\u001B[0m     building\u001B[38;5;241m.\u001B[39mapply_actions(\u001B[38;5;241m*\u001B[39m\u001B[38;5;241m*\u001B[39mbuilding_actions)\n\u001B[1;32m--> 719\u001B[0m \u001B[38;5;28;43mself\u001B[39;49m\u001B[38;5;241;43m.\u001B[39;49m\u001B[43mnext_time_step\u001B[49m\u001B[43m(\u001B[49m\u001B[43m)\u001B[49m\n\u001B[0;32m    720\u001B[0m reward \u001B[38;5;241m=\u001B[39m \u001B[38;5;28mself\u001B[39m\u001B[38;5;241m.\u001B[39mreward_function\u001B[38;5;241m.\u001B[39mcalculate()\n\u001B[0;32m    721\u001B[0m \u001B[38;5;28mself\u001B[39m\u001B[38;5;241m.\u001B[39m__rewards\u001B[38;5;241m.\u001B[39mappend(reward)\n",
      "File \u001B[1;32m~\\Documents\\GitHub\\CityLearn\\citylearn\\citylearn.py:944\u001B[0m, in \u001B[0;36mCityLearnEnv.next_time_step\u001B[1;34m(self)\u001B[0m\n\u001B[0;32m    941\u001B[0m \u001B[38;5;28mprint\u001B[39m (\u001B[38;5;124mf\u001B[39m\u001B[38;5;124m\"\u001B[39m\u001B[38;5;130;01m\\n\u001B[39;00m\u001B[38;5;130;01m\\n\u001B[39;00m\u001B[38;5;124mNext time step:\u001B[39m\u001B[38;5;124m\"\u001B[39m)\n\u001B[0;32m    943\u001B[0m \u001B[38;5;66;03m# Advance EVs to the next `time_step`\u001B[39;00m\n\u001B[1;32m--> 944\u001B[0m ev_status \u001B[38;5;241m=\u001B[39m \u001B[38;5;28;43mself\u001B[39;49m\u001B[38;5;241;43m.\u001B[39;49m\u001B[43madvance_evs\u001B[49m\u001B[43m(\u001B[49m\u001B[43m)\u001B[49m\n\u001B[0;32m    946\u001B[0m \u001B[38;5;66;03m# Advance buildings to the next time step and handle all disconnects from EV chargers\u001B[39;00m\n\u001B[0;32m    947\u001B[0m \u001B[38;5;28;01mfor\u001B[39;00m building \u001B[38;5;129;01min\u001B[39;00m \u001B[38;5;28mself\u001B[39m\u001B[38;5;241m.\u001B[39mbuildings:\n",
      "File \u001B[1;32m~\\Documents\\GitHub\\CityLearn\\citylearn\\citylearn.py:1007\u001B[0m, in \u001B[0;36mCityLearnEnv.advance_evs\u001B[1;34m(self)\u001B[0m\n\u001B[0;32m   1005\u001B[0m \u001B[38;5;28;01mfor\u001B[39;00m ev \u001B[38;5;129;01min\u001B[39;00m \u001B[38;5;28mself\u001B[39m\u001B[38;5;241m.\u001B[39mevs:\n\u001B[0;32m   1006\u001B[0m     \u001B[38;5;28;01mtry\u001B[39;00m:\n\u001B[1;32m-> 1007\u001B[0m         result \u001B[38;5;241m=\u001B[39m \u001B[43mev\u001B[49m\u001B[38;5;241;43m.\u001B[39;49m\u001B[43mnext_time_step\u001B[49m\u001B[43m(\u001B[49m\u001B[43m)\u001B[49m\n\u001B[0;32m   1008\u001B[0m         \u001B[38;5;28;01mif\u001B[39;00m result \u001B[38;5;129;01mis\u001B[39;00m \u001B[38;5;129;01mnot\u001B[39;00m \u001B[38;5;28;01mNone\u001B[39;00m:\n\u001B[0;32m   1009\u001B[0m             status, location \u001B[38;5;241m=\u001B[39m \u001B[38;5;28mnext\u001B[39m(\u001B[38;5;28miter\u001B[39m(result\u001B[38;5;241m.\u001B[39mitems()))\n",
      "File \u001B[1;32m~\\Documents\\GitHub\\CityLearn\\citylearn\\EV.py:164\u001B[0m, in \u001B[0;36mEV.next_time_step\u001B[1;34m(self)\u001B[0m\n\u001B[0;32m    159\u001B[0m \u001B[38;5;250m\u001B[39m\u001B[38;5;124;03m\"\"\"\u001B[39;00m\n\u001B[0;32m    160\u001B[0m \u001B[38;5;124;03mAdvance EV to the next `time_step`.\u001B[39;00m\n\u001B[0;32m    161\u001B[0m \u001B[38;5;124;03m\"\"\"\u001B[39;00m\n\u001B[0;32m    163\u001B[0m \u001B[38;5;66;03m# Capture the EV's current location.\u001B[39;00m\n\u001B[1;32m--> 164\u001B[0m charger_before \u001B[38;5;241m=\u001B[39m \u001B[38;5;28;43mself\u001B[39;49m\u001B[38;5;241;43m.\u001B[39;49m\u001B[43mev_simulation\u001B[49m\u001B[38;5;241;43m.\u001B[39;49m\u001B[43mconnected_charger\u001B[49m[\u001B[38;5;28mself\u001B[39m\u001B[38;5;241m.\u001B[39mtime_step]\n\u001B[0;32m    166\u001B[0m \u001B[38;5;66;03m# Advance the battery to the next time step.\u001B[39;00m\n\u001B[0;32m    167\u001B[0m \u001B[38;5;66;03m# TODO: Verify if this advancement is made correctly.\u001B[39;00m\n\u001B[0;32m    168\u001B[0m \u001B[38;5;28mself\u001B[39m\u001B[38;5;241m.\u001B[39mbattery\u001B[38;5;241m.\u001B[39mnext_time_step()\n",
      "\u001B[1;31mAttributeError\u001B[0m: 'EVSimulation' object has no attribute 'connected_charger'"
     ]
    }
   ],
   "source": [
    "from citylearn.citylearn import CityLearnEnv\n",
    "from citylearn.agents.rbc import BasicRBC as RBCAgent\n",
    "\n",
    "dataset_name = 'citylearn_challenge_2022_phase_all_with_EVs'\n",
    "env = CityLearnEnv(dataset_name, central_agent=True)\n",
    "model = RBCAgent(env)\n",
    "model.learn(episodes=1)\n",
    "\n",
    "# print cost functions at the end of episode\n",
    "kpis = model.env.evaluate().pivot(index='cost_function', columns='name', values='value')\n",
    "kpis = kpis.dropna(how='all')\n",
    "display(kpis)"
   ],
   "metadata": {
    "collapsed": false,
    "ExecuteTime": {
     "start_time": "2023-06-12T22:35:45.460178Z",
     "end_time": "2023-06-12T22:35:45.625730Z"
    }
   }
  }
 ],
 "metadata": {
  "kernelspec": {
   "display_name": "test_env",
   "language": "python",
   "name": "python3"
  },
  "language_info": {
   "codemirror_mode": {
    "name": "ipython",
    "version": 3
   },
   "file_extension": ".py",
   "mimetype": "text/x-python",
   "name": "python",
   "nbconvert_exporter": "python",
   "pygments_lexer": "ipython3",
   "version": "3.7.7"
  },
  "orig_nbformat": 4,
  "vscode": {
   "interpreter": {
    "hash": "24d13602916ce501dab33551801634a98323f75b1378db411e4ca12af6dc15d7"
   }
  }
 },
 "nbformat": 4,
 "nbformat_minor": 2
}
