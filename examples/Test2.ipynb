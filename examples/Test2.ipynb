{
 "cells": [
  {
   "attachments": {},
   "cell_type": "markdown",
   "metadata": {},
   "source": [
    "<a href=\"https://colab.research.google.com/github/intelligent-environments-lab/CityLearn/blob/master/examples/quickstart.ipynb\" target=\"_parent\"><img src=\"https://colab.research.google.com/assets/colab-badge.svg\" alt=\"Open In Colab\"/></a>"
   ]
  },
  {
   "attachments": {},
   "cell_type": "markdown",
   "metadata": {},
   "source": [
    "# QuickStart\n",
    "\n",
    "Install the latest CityLearn version from PyPi with the :code:`pip` command:"
   ]
  },
  {
   "cell_type": "code",
   "execution_count": null,
   "metadata": {
    "mystnb": {
     "remove_code_outputs": true
    },
    "vscode": {
     "languageId": "shellscript"
    }
   },
   "outputs": [],
   "source": [
    "pip install CityLearn==2.0b3"
   ]
  },
  {
   "attachments": {},
   "cell_type": "markdown",
   "metadata": {},
   "source": [
    "## Centralized RBC\n",
    "Run the following to simulate an environment controlled by centralized RBC agent for a single episode:"
   ]
  },
  {
   "cell_type": "code",
   "execution_count": null,
   "metadata": {
    "ExecuteTime": {
     "start_time": "2023-07-24T18:40:28.913380Z",
     "end_time": "2023-07-24T18:41:23.690791Z"
    }
   },
   "outputs": [],
   "source": [
    "from citylearn.citylearn import CityLearnEnv\n",
    "from citylearn.agents.rbc import BasicRBC as RBCAgent\n",
    "\n",
    "#dataset_name = 'citylearn_challenge_2022_phase_1'\n",
    "dataset_name = 'citylearn_challenge_2022_phase_all_with_EVs'\n",
    "env = CityLearnEnv(dataset_name, central_agent=True, simulation_end_time_step=1000)\n",
    "model = RBCAgent(env)\n",
    "model.learn(episodes=1)\n",
    "\n",
    "# print cost functions at the end of episode\n",
    "kpis = model.env.evaluate().pivot(index='cost_function', columns='name', values='value')\n",
    "kpis = kpis.dropna(how='all')\n",
    "display(kpis)"
   ]
  },
  {
   "attachments": {},
   "cell_type": "markdown",
   "metadata": {},
   "source": [
    "## Decentralized-Independent SAC\n",
    "\n",
    "Run the following to simulate an environment controlled by decentralized-independent SAC agents for 1 training episode:"
   ]
  },
  {
   "cell_type": "code",
   "execution_count": null,
   "metadata": {
    "ExecuteTime": {
     "start_time": "2023-07-25T01:49:13.930271Z",
     "end_time": "2023-07-25T01:52:08.923462Z"
    }
   },
   "outputs": [],
   "source": [
    "from citylearn.citylearn import CityLearnEnv\n",
    "from citylearn.agents.sac import SAC as RLAgent\n",
    "\n",
    "dataset_name = 'tiago_thesis_test_2_with_EVs_17_buildings_1_year'\n",
    "env = CityLearnEnv(dataset_name, central_agent=False)\n",
    "model = RLAgent(env)\n",
    "model.learn(episodes=10, deterministic_finish=True)\n",
    "\n",
    "# print cost functions at the end of episode\n",
    "kpis = model.env.evaluate().pivot(index='cost_function', columns='name', values='value')\n",
    "kpis = kpis.dropna(how='all')\n",
    "display(kpis)"
   ]
  },
  {
   "attachments": {},
   "cell_type": "markdown",
   "metadata": {},
   "source": [
    "## Decentralized-Cooperative MARLISA\n",
    "\n",
    "Run the following to simulate an environment controlled by decentralized-cooperative MARLISA agents for 1 training episode:"
   ]
  },
  {
   "cell_type": "code",
   "execution_count": null,
   "metadata": {
    "ExecuteTime": {
     "start_time": "2023-07-25T01:53:43.921553Z",
     "end_time": "2023-07-25T01:56:31.614448Z"
    }
   },
   "outputs": [],
   "source": [
    "from citylearn.citylearn import CityLearnEnv\n",
    "from citylearn.agents.marlisa import MARLISA as RLAgent\n",
    "\n",
    "\n",
    "#dataset_name = 'citylearn_challenge_2022_phase_1'\n",
    "dataset_name = 'citylearn_challenge_2022_phase_all_with_EVs'\n",
    "#env = CityLearnEnv(dataset_name, central_agent=False, simulation_end_time_step=1000)\n",
    "env = CityLearnEnv(dataset_name, central_agent=False, simulation_end_time_step=23)\n",
    "model = RLAgent(env)\n",
    "model.learn(episodes=10, deterministic_finish=True)\n",
    "\n",
    "kpis = model.env.evaluate().pivot(index='cost_function', columns='name', values='value')\n",
    "kpis = kpis.dropna(how='all')\n",
    "display(kpis)"
   ]
  },
  {
   "cell_type": "markdown",
   "source": [
    "## MADDPG-MIX\n"
   ],
   "metadata": {
    "collapsed": false
   }
  },
  {
   "cell_type": "code",
   "execution_count": null,
   "outputs": [],
   "source": [
    "from citylearn.citylearn import CityLearnEnv\n",
    "from citylearn.agents.EVs.maddpg import MADDPG as MADDPGAgent\n",
    "\n",
    "dataset_name = 'tiago_thesis_test_2_with_EVs_17_buildings_1_year'\n",
    "env = CityLearnEnv(dataset_name, central_agent=False)\n",
    "model = MADDPGAgent(env)\n",
    "model.learn(episodes=1)\n",
    "\n",
    "# print cost functions at the end of episode\n",
    "kpis = model.env.evaluate().pivot(index='cost_function', columns='name', values='value')\n",
    "kpis = kpis.dropna(how='all')\n",
    "display(kpis)"
   ],
   "metadata": {
    "collapsed": false,
    "ExecuteTime": {
     "start_time": "2023-08-17T01:12:54.766345Z",
     "end_time": "2023-08-17T01:12:54.766345Z"
    }
   }
  },
  {
   "attachments": {},
   "cell_type": "markdown",
   "metadata": {},
   "source": [
    "## Stable Baselines3 Reinforcement Learning Algorithms\n",
    "\n",
    "Install the latest version of Stable Baselines3:"
   ]
  },
  {
   "cell_type": "code",
   "execution_count": null,
   "metadata": {
    "vscode": {
     "languageId": "shellscript"
    },
    "ExecuteTime": {
     "start_time": "2023-07-25T01:58:36.167361Z",
     "end_time": "2023-07-25T01:58:57.929339Z"
    }
   },
   "outputs": [],
   "source": [
    "pip install stable-baselines3"
   ]
  },
  {
   "attachments": {},
   "cell_type": "markdown",
   "metadata": {},
   "source": [
    "Before the environment is ready for use in Stable Baselines3, it needs to be wrapped. Firstly, wrap the environment using the `NormalizedObservationWrapper` (see [docs](https://www.citylearn.net/api/citylearn.wrappers.html#citylearn.wrappers.NormalizedObservationWrapper)) to ensure that observations served to the agent are min-max normalized between [0, 1] and cyclical observations e.g. hour, are encoded using the cosine transformation.\n",
    "\n",
    "Next, we wrap with the `StableBaselines3Wrapper` (see [docs](https://www.citylearn.net/api/citylearn.wrappers.html#citylearn.wrappers.StableBaselines3Wrapper)) that ensures observations, actions and rewards are served in manner that is compatible with Stable Baselines3 interface.\n",
    "\n",
    "For the following Stable Baselines3 example, the `baeda_3dem` dataset that support building temperature dynamics is used.\n",
    "\n",
    "> ⚠️ **NOTE**: `central_agent` in the `env` must be `True` when using Stable Baselines3  as it does not support multi-agents."
   ]
  },
  {
   "cell_type": "code",
   "execution_count": null,
   "metadata": {},
   "outputs": [],
   "source": [
    "from stable_baselines3.sac import SAC\n",
    "from citylearn.citylearn import CityLearnEnv\n",
    "from citylearn.wrappers import NormalizedObservationWrapper, StableBaselines3Wrapper\n",
    "\n",
    "dataset_name = 'baeda_3dem'\n",
    "env = CityLearnEnv(dataset_name, central_agent=True, simulation_end_time_step=1000)\n",
    "env = NormalizedObservationWrapper(env)\n",
    "env = StableBaselines3Wrapper(env)\n",
    "model = SAC('MlpPolicy', env)\n",
    "model.learn(total_timesteps=env.time_steps*2)\n",
    "\n",
    "# evaluate\n",
    "observations = env.reset()\n",
    "\n",
    "while not env.done:\n",
    "    actions, _ = model.predict(observations, deterministic=True)\n",
    "    observations, _, _, _ = env.step(actions)\n",
    "\n",
    "kpis = env.evaluate().pivot(index='cost_function', columns='name', values='value')\n",
    "kpis = kpis.dropna(how='all')\n",
    "display(kpis)"
   ]
  }
 ],
 "metadata": {
  "kernelspec": {
   "display_name": "test_env",
   "language": "python",
   "name": "python3"
  },
  "language_info": {
   "codemirror_mode": {
    "name": "ipython",
    "version": 3
   },
   "file_extension": ".py",
   "mimetype": "text/x-python",
   "name": "python",
   "nbconvert_exporter": "python",
   "pygments_lexer": "ipython3",
   "version": "3.7.7"
  },
  "orig_nbformat": 4,
  "vscode": {
   "interpreter": {
    "hash": "24d13602916ce501dab33551801634a98323f75b1378db411e4ca12af6dc15d7"
   }
  }
 },
 "nbformat": 4,
 "nbformat_minor": 2
}
